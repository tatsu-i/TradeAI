{
 "cells": [
  {
   "cell_type": "code",
   "execution_count": 16,
   "metadata": {},
   "outputs": [],
   "source": [
    "def difflist(list1, list2):\n",
    "    for i in range(len(list1)):\n",
    "        if list1[i] != list2[i]:\n",
    "            return f\"Value{i + 1}\"\n",
    "    return 0"
   ]
  },
  {
   "cell_type": "code",
   "execution_count": 17,
   "metadata": {},
   "outputs": [],
   "source": [
    "import pandas as pd\n",
    "a = pd.read_csv(\"dataset/csv/9984-TS.csv\", header=None)\n",
    "b = pd.read_csv(\"/data/dump.csv\", header=None)\n",
    "del a[1]"
   ]
  },
  {
   "cell_type": "code",
   "execution_count": 18,
   "metadata": {},
   "outputs": [
    {
     "name": "stdout",
     "output_type": "stream",
     "text": [
      "{'Value2': 5, 'Value1': 1, 'Value13': 1, 'Value30': 25, 'Value8': 3}\n"
     ]
    }
   ],
   "source": [
    "import numpy as np\n",
    "results = {}\n",
    "for timestamp in list(b[0]):\n",
    "    na = list(np.array(a[a[0] == timestamp].iloc[0]))[1:]\n",
    "    nb = list(np.array(b[b[0] == timestamp].iloc[0]))[1:]\n",
    "    r = difflist(na, nb)\n",
    "    if r:\n",
    "        results[r] = results.get(r, 0)\n",
    "        results[r] += 1\n",
    "print(results)"
   ]
  }
 ],
 "metadata": {
  "kernelspec": {
   "display_name": "Python 3",
   "language": "python",
   "name": "python3"
  },
  "language_info": {
   "codemirror_mode": {
    "name": "ipython",
    "version": 3
   },
   "file_extension": ".py",
   "mimetype": "text/x-python",
   "name": "python",
   "nbconvert_exporter": "python",
   "pygments_lexer": "ipython3",
   "version": "3.7.3"
  }
 },
 "nbformat": 4,
 "nbformat_minor": 2
}
